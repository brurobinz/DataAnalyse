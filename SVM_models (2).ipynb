{
  "cells": [
    {
      "cell_type": "code",
      "execution_count": 1,
      "metadata": {
        "colab": {
          "base_uri": "https://localhost:8080/"
        },
        "id": "p_7xcYugVoLM",
        "outputId": "a2f93c8e-710b-4f64-b879-00393ed4c16a"
      },
      "outputs": [
        {
          "output_type": "stream",
          "name": "stdout",
          "text": [
            "Drive already mounted at /content/drive; to attempt to forcibly remount, call drive.mount(\"/content/drive\", force_remount=True).\n"
          ]
        }
      ],
      "source": [
        "from google.colab import drive\n",
        "drive.mount('/content/drive')"
      ]
    },
    {
      "cell_type": "markdown",
      "metadata": {
        "id": "cttuhjeUvjkF"
      },
      "source": []
    },
    {
      "cell_type": "markdown",
      "metadata": {
        "id": "LzdGUgHDLEIZ"
      },
      "source": [
        "Tải dữ liệu từ liên kết và chuẩn bị dữ liệu cho mô hình"
      ]
    },
    {
      "cell_type": "code",
      "execution_count": 2,
      "metadata": {
        "colab": {
          "base_uri": "https://localhost:8080/",
          "height": 972
        },
        "id": "EDTxfVrOLUfW",
        "outputId": "0052a31d-672e-486d-fc37-07ca1a1578be"
      },
      "outputs": [
        {
          "output_type": "stream",
          "name": "stdout",
          "text": [
            "Administrative             0\n",
            "Administrative_Duration    0\n",
            "Informational              0\n",
            "Informational_Duration     0\n",
            "ProductRelated             0\n",
            "ProductRelated_Duration    0\n",
            "BounceRates                0\n",
            "ExitRates                  0\n",
            "PageValues                 0\n",
            "SpecialDay                 0\n",
            "Month                      0\n",
            "OperatingSystems           0\n",
            "Browser                    0\n",
            "Region                     0\n",
            "TrafficType                0\n",
            "VisitorType                0\n",
            "Weekend                    0\n",
            "Revenue                    0\n",
            "dtype: int64\n",
            "<class 'pandas.core.frame.DataFrame'>\n",
            "Index: 12205 entries, 0 to 12329\n",
            "Data columns (total 16 columns):\n",
            " #   Column                   Non-Null Count  Dtype  \n",
            "---  ------                   --------------  -----  \n",
            " 0   Administrative           12205 non-null  int64  \n",
            " 1   Administrative_Duration  12205 non-null  float64\n",
            " 2   Informational            12205 non-null  int64  \n",
            " 3   Informational_Duration   12205 non-null  float64\n",
            " 4   ProductRelated           12205 non-null  int64  \n",
            " 5   ProductRelated_Duration  12205 non-null  float64\n",
            " 6   BounceRates              12205 non-null  float64\n",
            " 7   ExitRates                12205 non-null  float64\n",
            " 8   PageValues               12205 non-null  float64\n",
            " 9   SpecialDay               12205 non-null  float64\n",
            " 10  Month                    12205 non-null  object \n",
            " 11  Region                   12205 non-null  int64  \n",
            " 12  TrafficType              12205 non-null  int64  \n",
            " 13  VisitorType              12205 non-null  object \n",
            " 14  Weekend                  12205 non-null  bool   \n",
            " 15  Revenue                  12205 non-null  bool   \n",
            "dtypes: bool(2), float64(7), int64(5), object(2)\n",
            "memory usage: 1.4+ MB\n",
            "None\n"
          ]
        },
        {
          "output_type": "execute_result",
          "data": {
            "text/plain": [
              "   Administrative  Administrative_Duration  Informational  \\\n",
              "0               0                      0.0              0   \n",
              "1               0                      0.0              0   \n",
              "2               0                      0.0              0   \n",
              "3               0                      0.0              0   \n",
              "4               0                      0.0              0   \n",
              "\n",
              "   Informational_Duration  ProductRelated  ProductRelated_Duration  \\\n",
              "0                     0.0               1                 0.000000   \n",
              "1                     0.0               2                64.000000   \n",
              "2                     0.0               1                 0.000000   \n",
              "3                     0.0               2                 2.666667   \n",
              "4                     0.0              10               627.500000   \n",
              "\n",
              "   BounceRates  ExitRates  PageValues  SpecialDay Month  Region  TrafficType  \\\n",
              "0         0.20       0.20         0.0         0.0   Feb       1            1   \n",
              "1         0.00       0.10         0.0         0.0   Feb       1            2   \n",
              "2         0.20       0.20         0.0         0.0   Feb       9            3   \n",
              "3         0.05       0.14         0.0         0.0   Feb       2            4   \n",
              "4         0.02       0.05         0.0         0.0   Feb       1            4   \n",
              "\n",
              "         VisitorType  Weekend  Revenue  \n",
              "0  Returning_Visitor    False    False  \n",
              "1  Returning_Visitor    False    False  \n",
              "2  Returning_Visitor    False    False  \n",
              "3  Returning_Visitor    False    False  \n",
              "4  Returning_Visitor     True    False  "
            ],
            "text/html": [
              "\n",
              "  <div id=\"df-1da27cf0-a5c6-464b-af19-30b31446d457\" class=\"colab-df-container\">\n",
              "    <div>\n",
              "<style scoped>\n",
              "    .dataframe tbody tr th:only-of-type {\n",
              "        vertical-align: middle;\n",
              "    }\n",
              "\n",
              "    .dataframe tbody tr th {\n",
              "        vertical-align: top;\n",
              "    }\n",
              "\n",
              "    .dataframe thead th {\n",
              "        text-align: right;\n",
              "    }\n",
              "</style>\n",
              "<table border=\"1\" class=\"dataframe\">\n",
              "  <thead>\n",
              "    <tr style=\"text-align: right;\">\n",
              "      <th></th>\n",
              "      <th>Administrative</th>\n",
              "      <th>Administrative_Duration</th>\n",
              "      <th>Informational</th>\n",
              "      <th>Informational_Duration</th>\n",
              "      <th>ProductRelated</th>\n",
              "      <th>ProductRelated_Duration</th>\n",
              "      <th>BounceRates</th>\n",
              "      <th>ExitRates</th>\n",
              "      <th>PageValues</th>\n",
              "      <th>SpecialDay</th>\n",
              "      <th>Month</th>\n",
              "      <th>Region</th>\n",
              "      <th>TrafficType</th>\n",
              "      <th>VisitorType</th>\n",
              "      <th>Weekend</th>\n",
              "      <th>Revenue</th>\n",
              "    </tr>\n",
              "  </thead>\n",
              "  <tbody>\n",
              "    <tr>\n",
              "      <th>0</th>\n",
              "      <td>0</td>\n",
              "      <td>0.0</td>\n",
              "      <td>0</td>\n",
              "      <td>0.0</td>\n",
              "      <td>1</td>\n",
              "      <td>0.000000</td>\n",
              "      <td>0.20</td>\n",
              "      <td>0.20</td>\n",
              "      <td>0.0</td>\n",
              "      <td>0.0</td>\n",
              "      <td>Feb</td>\n",
              "      <td>1</td>\n",
              "      <td>1</td>\n",
              "      <td>Returning_Visitor</td>\n",
              "      <td>False</td>\n",
              "      <td>False</td>\n",
              "    </tr>\n",
              "    <tr>\n",
              "      <th>1</th>\n",
              "      <td>0</td>\n",
              "      <td>0.0</td>\n",
              "      <td>0</td>\n",
              "      <td>0.0</td>\n",
              "      <td>2</td>\n",
              "      <td>64.000000</td>\n",
              "      <td>0.00</td>\n",
              "      <td>0.10</td>\n",
              "      <td>0.0</td>\n",
              "      <td>0.0</td>\n",
              "      <td>Feb</td>\n",
              "      <td>1</td>\n",
              "      <td>2</td>\n",
              "      <td>Returning_Visitor</td>\n",
              "      <td>False</td>\n",
              "      <td>False</td>\n",
              "    </tr>\n",
              "    <tr>\n",
              "      <th>2</th>\n",
              "      <td>0</td>\n",
              "      <td>0.0</td>\n",
              "      <td>0</td>\n",
              "      <td>0.0</td>\n",
              "      <td>1</td>\n",
              "      <td>0.000000</td>\n",
              "      <td>0.20</td>\n",
              "      <td>0.20</td>\n",
              "      <td>0.0</td>\n",
              "      <td>0.0</td>\n",
              "      <td>Feb</td>\n",
              "      <td>9</td>\n",
              "      <td>3</td>\n",
              "      <td>Returning_Visitor</td>\n",
              "      <td>False</td>\n",
              "      <td>False</td>\n",
              "    </tr>\n",
              "    <tr>\n",
              "      <th>3</th>\n",
              "      <td>0</td>\n",
              "      <td>0.0</td>\n",
              "      <td>0</td>\n",
              "      <td>0.0</td>\n",
              "      <td>2</td>\n",
              "      <td>2.666667</td>\n",
              "      <td>0.05</td>\n",
              "      <td>0.14</td>\n",
              "      <td>0.0</td>\n",
              "      <td>0.0</td>\n",
              "      <td>Feb</td>\n",
              "      <td>2</td>\n",
              "      <td>4</td>\n",
              "      <td>Returning_Visitor</td>\n",
              "      <td>False</td>\n",
              "      <td>False</td>\n",
              "    </tr>\n",
              "    <tr>\n",
              "      <th>4</th>\n",
              "      <td>0</td>\n",
              "      <td>0.0</td>\n",
              "      <td>0</td>\n",
              "      <td>0.0</td>\n",
              "      <td>10</td>\n",
              "      <td>627.500000</td>\n",
              "      <td>0.02</td>\n",
              "      <td>0.05</td>\n",
              "      <td>0.0</td>\n",
              "      <td>0.0</td>\n",
              "      <td>Feb</td>\n",
              "      <td>1</td>\n",
              "      <td>4</td>\n",
              "      <td>Returning_Visitor</td>\n",
              "      <td>True</td>\n",
              "      <td>False</td>\n",
              "    </tr>\n",
              "  </tbody>\n",
              "</table>\n",
              "</div>\n",
              "    <div class=\"colab-df-buttons\">\n",
              "\n",
              "  <div class=\"colab-df-container\">\n",
              "    <button class=\"colab-df-convert\" onclick=\"convertToInteractive('df-1da27cf0-a5c6-464b-af19-30b31446d457')\"\n",
              "            title=\"Convert this dataframe to an interactive table.\"\n",
              "            style=\"display:none;\">\n",
              "\n",
              "  <svg xmlns=\"http://www.w3.org/2000/svg\" height=\"24px\" viewBox=\"0 -960 960 960\">\n",
              "    <path d=\"M120-120v-720h720v720H120Zm60-500h600v-160H180v160Zm220 220h160v-160H400v160Zm0 220h160v-160H400v160ZM180-400h160v-160H180v160Zm440 0h160v-160H620v160ZM180-180h160v-160H180v160Zm440 0h160v-160H620v160Z\"/>\n",
              "  </svg>\n",
              "    </button>\n",
              "\n",
              "  <style>\n",
              "    .colab-df-container {\n",
              "      display:flex;\n",
              "      gap: 12px;\n",
              "    }\n",
              "\n",
              "    .colab-df-convert {\n",
              "      background-color: #E8F0FE;\n",
              "      border: none;\n",
              "      border-radius: 50%;\n",
              "      cursor: pointer;\n",
              "      display: none;\n",
              "      fill: #1967D2;\n",
              "      height: 32px;\n",
              "      padding: 0 0 0 0;\n",
              "      width: 32px;\n",
              "    }\n",
              "\n",
              "    .colab-df-convert:hover {\n",
              "      background-color: #E2EBFA;\n",
              "      box-shadow: 0px 1px 2px rgba(60, 64, 67, 0.3), 0px 1px 3px 1px rgba(60, 64, 67, 0.15);\n",
              "      fill: #174EA6;\n",
              "    }\n",
              "\n",
              "    .colab-df-buttons div {\n",
              "      margin-bottom: 4px;\n",
              "    }\n",
              "\n",
              "    [theme=dark] .colab-df-convert {\n",
              "      background-color: #3B4455;\n",
              "      fill: #D2E3FC;\n",
              "    }\n",
              "\n",
              "    [theme=dark] .colab-df-convert:hover {\n",
              "      background-color: #434B5C;\n",
              "      box-shadow: 0px 1px 3px 1px rgba(0, 0, 0, 0.15);\n",
              "      filter: drop-shadow(0px 1px 2px rgba(0, 0, 0, 0.3));\n",
              "      fill: #FFFFFF;\n",
              "    }\n",
              "  </style>\n",
              "\n",
              "    <script>\n",
              "      const buttonEl =\n",
              "        document.querySelector('#df-1da27cf0-a5c6-464b-af19-30b31446d457 button.colab-df-convert');\n",
              "      buttonEl.style.display =\n",
              "        google.colab.kernel.accessAllowed ? 'block' : 'none';\n",
              "\n",
              "      async function convertToInteractive(key) {\n",
              "        const element = document.querySelector('#df-1da27cf0-a5c6-464b-af19-30b31446d457');\n",
              "        const dataTable =\n",
              "          await google.colab.kernel.invokeFunction('convertToInteractive',\n",
              "                                                    [key], {});\n",
              "        if (!dataTable) return;\n",
              "\n",
              "        const docLinkHtml = 'Like what you see? Visit the ' +\n",
              "          '<a target=\"_blank\" href=https://colab.research.google.com/notebooks/data_table.ipynb>data table notebook</a>'\n",
              "          + ' to learn more about interactive tables.';\n",
              "        element.innerHTML = '';\n",
              "        dataTable['output_type'] = 'display_data';\n",
              "        await google.colab.output.renderOutput(dataTable, element);\n",
              "        const docLink = document.createElement('div');\n",
              "        docLink.innerHTML = docLinkHtml;\n",
              "        element.appendChild(docLink);\n",
              "      }\n",
              "    </script>\n",
              "  </div>\n",
              "\n",
              "\n",
              "<div id=\"df-c7a9fec0-ace7-4581-a9f2-94e3b4ac7cc4\">\n",
              "  <button class=\"colab-df-quickchart\" onclick=\"quickchart('df-c7a9fec0-ace7-4581-a9f2-94e3b4ac7cc4')\"\n",
              "            title=\"Suggest charts\"\n",
              "            style=\"display:none;\">\n",
              "\n",
              "<svg xmlns=\"http://www.w3.org/2000/svg\" height=\"24px\"viewBox=\"0 0 24 24\"\n",
              "     width=\"24px\">\n",
              "    <g>\n",
              "        <path d=\"M19 3H5c-1.1 0-2 .9-2 2v14c0 1.1.9 2 2 2h14c1.1 0 2-.9 2-2V5c0-1.1-.9-2-2-2zM9 17H7v-7h2v7zm4 0h-2V7h2v10zm4 0h-2v-4h2v4z\"/>\n",
              "    </g>\n",
              "</svg>\n",
              "  </button>\n",
              "\n",
              "<style>\n",
              "  .colab-df-quickchart {\n",
              "      --bg-color: #E8F0FE;\n",
              "      --fill-color: #1967D2;\n",
              "      --hover-bg-color: #E2EBFA;\n",
              "      --hover-fill-color: #174EA6;\n",
              "      --disabled-fill-color: #AAA;\n",
              "      --disabled-bg-color: #DDD;\n",
              "  }\n",
              "\n",
              "  [theme=dark] .colab-df-quickchart {\n",
              "      --bg-color: #3B4455;\n",
              "      --fill-color: #D2E3FC;\n",
              "      --hover-bg-color: #434B5C;\n",
              "      --hover-fill-color: #FFFFFF;\n",
              "      --disabled-bg-color: #3B4455;\n",
              "      --disabled-fill-color: #666;\n",
              "  }\n",
              "\n",
              "  .colab-df-quickchart {\n",
              "    background-color: var(--bg-color);\n",
              "    border: none;\n",
              "    border-radius: 50%;\n",
              "    cursor: pointer;\n",
              "    display: none;\n",
              "    fill: var(--fill-color);\n",
              "    height: 32px;\n",
              "    padding: 0;\n",
              "    width: 32px;\n",
              "  }\n",
              "\n",
              "  .colab-df-quickchart:hover {\n",
              "    background-color: var(--hover-bg-color);\n",
              "    box-shadow: 0 1px 2px rgba(60, 64, 67, 0.3), 0 1px 3px 1px rgba(60, 64, 67, 0.15);\n",
              "    fill: var(--button-hover-fill-color);\n",
              "  }\n",
              "\n",
              "  .colab-df-quickchart-complete:disabled,\n",
              "  .colab-df-quickchart-complete:disabled:hover {\n",
              "    background-color: var(--disabled-bg-color);\n",
              "    fill: var(--disabled-fill-color);\n",
              "    box-shadow: none;\n",
              "  }\n",
              "\n",
              "  .colab-df-spinner {\n",
              "    border: 2px solid var(--fill-color);\n",
              "    border-color: transparent;\n",
              "    border-bottom-color: var(--fill-color);\n",
              "    animation:\n",
              "      spin 1s steps(1) infinite;\n",
              "  }\n",
              "\n",
              "  @keyframes spin {\n",
              "    0% {\n",
              "      border-color: transparent;\n",
              "      border-bottom-color: var(--fill-color);\n",
              "      border-left-color: var(--fill-color);\n",
              "    }\n",
              "    20% {\n",
              "      border-color: transparent;\n",
              "      border-left-color: var(--fill-color);\n",
              "      border-top-color: var(--fill-color);\n",
              "    }\n",
              "    30% {\n",
              "      border-color: transparent;\n",
              "      border-left-color: var(--fill-color);\n",
              "      border-top-color: var(--fill-color);\n",
              "      border-right-color: var(--fill-color);\n",
              "    }\n",
              "    40% {\n",
              "      border-color: transparent;\n",
              "      border-right-color: var(--fill-color);\n",
              "      border-top-color: var(--fill-color);\n",
              "    }\n",
              "    60% {\n",
              "      border-color: transparent;\n",
              "      border-right-color: var(--fill-color);\n",
              "    }\n",
              "    80% {\n",
              "      border-color: transparent;\n",
              "      border-right-color: var(--fill-color);\n",
              "      border-bottom-color: var(--fill-color);\n",
              "    }\n",
              "    90% {\n",
              "      border-color: transparent;\n",
              "      border-bottom-color: var(--fill-color);\n",
              "    }\n",
              "  }\n",
              "</style>\n",
              "\n",
              "  <script>\n",
              "    async function quickchart(key) {\n",
              "      const quickchartButtonEl =\n",
              "        document.querySelector('#' + key + ' button');\n",
              "      quickchartButtonEl.disabled = true;  // To prevent multiple clicks.\n",
              "      quickchartButtonEl.classList.add('colab-df-spinner');\n",
              "      try {\n",
              "        const charts = await google.colab.kernel.invokeFunction(\n",
              "            'suggestCharts', [key], {});\n",
              "      } catch (error) {\n",
              "        console.error('Error during call to suggestCharts:', error);\n",
              "      }\n",
              "      quickchartButtonEl.classList.remove('colab-df-spinner');\n",
              "      quickchartButtonEl.classList.add('colab-df-quickchart-complete');\n",
              "    }\n",
              "    (() => {\n",
              "      let quickchartButtonEl =\n",
              "        document.querySelector('#df-c7a9fec0-ace7-4581-a9f2-94e3b4ac7cc4 button');\n",
              "      quickchartButtonEl.style.display =\n",
              "        google.colab.kernel.accessAllowed ? 'block' : 'none';\n",
              "    })();\n",
              "  </script>\n",
              "</div>\n",
              "\n",
              "    </div>\n",
              "  </div>\n"
            ],
            "application/vnd.google.colaboratory.intrinsic+json": {
              "type": "dataframe",
              "variable_name": "data",
              "summary": "{\n  \"name\": \"data\",\n  \"rows\": 12205,\n  \"fields\": [\n    {\n      \"column\": \"Administrative\",\n      \"properties\": {\n        \"dtype\": \"number\",\n        \"std\": 3,\n        \"min\": 0,\n        \"max\": 27,\n        \"num_unique_values\": 27,\n        \"samples\": [\n          5,\n          11,\n          9\n        ],\n        \"semantic_type\": \"\",\n        \"description\": \"\"\n      }\n    },\n    {\n      \"column\": \"Administrative_Duration\",\n      \"properties\": {\n        \"dtype\": \"number\",\n        \"std\": 177.491845424065,\n        \"min\": 0.0,\n        \"max\": 3398.75,\n        \"num_unique_values\": 3335,\n        \"samples\": [\n          93.6,\n          63.08333333,\n          351.0833333\n        ],\n        \"semantic_type\": \"\",\n        \"description\": \"\"\n      }\n    },\n    {\n      \"column\": \"Informational\",\n      \"properties\": {\n        \"dtype\": \"number\",\n        \"std\": 1,\n        \"min\": 0,\n        \"max\": 24,\n        \"num_unique_values\": 17,\n        \"samples\": [\n          0,\n          1,\n          5\n        ],\n        \"semantic_type\": \"\",\n        \"description\": \"\"\n      }\n    },\n    {\n      \"column\": \"Informational_Duration\",\n      \"properties\": {\n        \"dtype\": \"number\",\n        \"std\": 141.4248070394383,\n        \"min\": 0.0,\n        \"max\": 2549.375,\n        \"num_unique_values\": 1258,\n        \"samples\": [\n          793.8,\n          50.0,\n          57.0\n        ],\n        \"semantic_type\": \"\",\n        \"description\": \"\"\n      }\n    },\n    {\n      \"column\": \"ProductRelated\",\n      \"properties\": {\n        \"dtype\": \"number\",\n        \"std\": 44,\n        \"min\": 0,\n        \"max\": 705,\n        \"num_unique_values\": 311,\n        \"samples\": [\n          330,\n          23,\n          54\n        ],\n        \"semantic_type\": \"\",\n        \"description\": \"\"\n      }\n    },\n    {\n      \"column\": \"ProductRelated_Duration\",\n      \"properties\": {\n        \"dtype\": \"number\",\n        \"std\": 1919.6014003741714,\n        \"min\": 0.0,\n        \"max\": 63973.52223,\n        \"num_unique_values\": 9551,\n        \"samples\": [\n          225.68,\n          232.6666667,\n          2834.280117\n        ],\n        \"semantic_type\": \"\",\n        \"description\": \"\"\n      }\n    },\n    {\n      \"column\": \"BounceRates\",\n      \"properties\": {\n        \"dtype\": \"number\",\n        \"std\": 0.04525544108839358,\n        \"min\": 0.0,\n        \"max\": 0.2,\n        \"num_unique_values\": 1872,\n        \"samples\": [\n          0.004778942,\n          0.010793651,\n          0.005073996\n        ],\n        \"semantic_type\": \"\",\n        \"description\": \"\"\n      }\n    },\n    {\n      \"column\": \"ExitRates\",\n      \"properties\": {\n        \"dtype\": \"number\",\n        \"std\": 0.04616270247125829,\n        \"min\": 0.0,\n        \"max\": 0.2,\n        \"num_unique_values\": 4777,\n        \"samples\": [\n          0.120833333,\n          0.006857143,\n          0.008914729\n        ],\n        \"semantic_type\": \"\",\n        \"description\": \"\"\n      }\n    },\n    {\n      \"column\": \"PageValues\",\n      \"properties\": {\n        \"dtype\": \"number\",\n        \"std\": 18.653671169389426,\n        \"min\": 0.0,\n        \"max\": 361.7637419,\n        \"num_unique_values\": 2704,\n        \"samples\": [\n          54.65714872,\n          20.97239726,\n          11.65996434\n        ],\n        \"semantic_type\": \"\",\n        \"description\": \"\"\n      }\n    },\n    {\n      \"column\": \"SpecialDay\",\n      \"properties\": {\n        \"dtype\": \"number\",\n        \"std\": 0.1996662198991968,\n        \"min\": 0.0,\n        \"max\": 1.0,\n        \"num_unique_values\": 6,\n        \"samples\": [\n          0.0,\n          0.4,\n          0.6\n        ],\n        \"semantic_type\": \"\",\n        \"description\": \"\"\n      }\n    },\n    {\n      \"column\": \"Month\",\n      \"properties\": {\n        \"dtype\": \"category\",\n        \"num_unique_values\": 10,\n        \"samples\": [\n          \"Sep\",\n          \"Mar\",\n          \"Jul\"\n        ],\n        \"semantic_type\": \"\",\n        \"description\": \"\"\n      }\n    },\n    {\n      \"column\": \"Region\",\n      \"properties\": {\n        \"dtype\": \"number\",\n        \"std\": 2,\n        \"min\": 1,\n        \"max\": 9,\n        \"num_unique_values\": 9,\n        \"samples\": [\n          7,\n          9,\n          5\n        ],\n        \"semantic_type\": \"\",\n        \"description\": \"\"\n      }\n    },\n    {\n      \"column\": \"TrafficType\",\n      \"properties\": {\n        \"dtype\": \"number\",\n        \"std\": 4,\n        \"min\": 1,\n        \"max\": 20,\n        \"num_unique_values\": 20,\n        \"samples\": [\n          1,\n          16,\n          18\n        ],\n        \"semantic_type\": \"\",\n        \"description\": \"\"\n      }\n    },\n    {\n      \"column\": \"VisitorType\",\n      \"properties\": {\n        \"dtype\": \"category\",\n        \"num_unique_values\": 3,\n        \"samples\": [\n          \"Returning_Visitor\",\n          \"New_Visitor\",\n          \"Other\"\n        ],\n        \"semantic_type\": \"\",\n        \"description\": \"\"\n      }\n    },\n    {\n      \"column\": \"Weekend\",\n      \"properties\": {\n        \"dtype\": \"boolean\",\n        \"num_unique_values\": 2,\n        \"samples\": [\n          true,\n          false\n        ],\n        \"semantic_type\": \"\",\n        \"description\": \"\"\n      }\n    },\n    {\n      \"column\": \"Revenue\",\n      \"properties\": {\n        \"dtype\": \"boolean\",\n        \"num_unique_values\": 2,\n        \"samples\": [\n          true,\n          false\n        ],\n        \"semantic_type\": \"\",\n        \"description\": \"\"\n      }\n    }\n  ]\n}"
            }
          },
          "metadata": {},
          "execution_count": 2
        }
      ],
      "source": [
        "import pandas as pd\n",
        "from sklearn.model_selection import train_test_split\n",
        "from sklearn.preprocessing import StandardScaler\n",
        "from sklearn.svm import SVC\n",
        "from sklearn.metrics import f1_score\n",
        "from sklearn.model_selection import cross_val_score, KFold\n",
        "\n",
        "# Tải dữ liệu từ liên kết\n",
        "url = \"/content/drive/MyDrive/SVM/online_shoppers_intention.csv\"\n",
        "data = pd.read_csv(url)\n",
        "\n",
        "# Kiểm tra các giá trị null\n",
        "print(data.isnull().sum())\n",
        "\n",
        "# Loại bỏ các hàng trùng lặp\n",
        "data.drop_duplicates(inplace=True)\n",
        "\n",
        "# Loại bỏ hai cột 'OperatingSystems' và 'Browser'\n",
        "data = data.drop(columns=['OperatingSystems', 'Browser'])\n",
        "\n",
        "# Chia dữ liệu thành features và labels\n",
        "X = data.drop('Revenue', axis=1)\n",
        "y = data['Revenue']\n",
        "\n",
        "# Chuyển đổi các biến phân loại thành biến số\n",
        "X = pd.get_dummies(X)\n",
        "\n",
        "# Xem thông tin dữ liệu\n",
        "print(data.info())\n",
        "data.head()"
      ]
    },
    {
      "cell_type": "markdown",
      "metadata": {
        "id": "zOgSeFzROhFz"
      },
      "source": [
        "**Tiền xử lý dữ liệu**\n",
        "\n",
        "\n",
        "chuẩn bị dữ liệu trước khi đưa vào mô hình"
      ]
    },
    {
      "cell_type": "code",
      "execution_count": 3,
      "metadata": {
        "colab": {
          "base_uri": "https://localhost:8080/"
        },
        "id": "87I0gk0ZhXVl",
        "outputId": "46d0b53b-a3b1-4d31-ab03-28e2d0fd9db7"
      },
      "outputs": [
        {
          "output_type": "stream",
          "name": "stdout",
          "text": [
            "<class 'pandas.core.frame.DataFrame'>\n",
            "Index: 12205 entries, 0 to 12329\n",
            "Data columns (total 24 columns):\n",
            " #   Column                   Non-Null Count  Dtype  \n",
            "---  ------                   --------------  -----  \n",
            " 0   Administrative           12205 non-null  int64  \n",
            " 1   Administrative_Duration  12205 non-null  float64\n",
            " 2   Informational            12205 non-null  int64  \n",
            " 3   Informational_Duration   12205 non-null  float64\n",
            " 4   ProductRelated           12205 non-null  int64  \n",
            " 5   ProductRelated_Duration  12205 non-null  float64\n",
            " 6   BounceRates              12205 non-null  float64\n",
            " 7   ExitRates                12205 non-null  float64\n",
            " 8   PageValues               12205 non-null  float64\n",
            " 9   SpecialDay               12205 non-null  float64\n",
            " 10  Region                   12205 non-null  int64  \n",
            " 11  TrafficType              12205 non-null  int64  \n",
            " 12  VisitorType              12205 non-null  int64  \n",
            " 13  Weekend                  12205 non-null  int64  \n",
            " 14  Revenue                  12205 non-null  int64  \n",
            " 15  Month_Dec                12205 non-null  bool   \n",
            " 16  Month_Feb                12205 non-null  bool   \n",
            " 17  Month_Jul                12205 non-null  bool   \n",
            " 18  Month_June               12205 non-null  bool   \n",
            " 19  Month_Mar                12205 non-null  bool   \n",
            " 20  Month_May                12205 non-null  bool   \n",
            " 21  Month_Nov                12205 non-null  bool   \n",
            " 22  Month_Oct                12205 non-null  bool   \n",
            " 23  Month_Sep                12205 non-null  bool   \n",
            "dtypes: bool(9), float64(7), int64(8)\n",
            "memory usage: 1.6 MB\n"
          ]
        }
      ],
      "source": [
        "from sklearn.preprocessing import LabelEncoder\n",
        "#Chuyển về dữ liệu số\n",
        "# Using LabelEncoder 'VisitorType' column\n",
        "data['VisitorType'] = LabelEncoder().fit_transform(data['VisitorType'])\n",
        "\n",
        "# One-Hot Encoding for 'Month' column\n",
        "data = pd.get_dummies(data, columns=['Month'], drop_first=True)\n",
        "\n",
        "# Convert 'Weekend' and 'Revenue' columns from bool to int\n",
        "data['Weekend'] = data['Weekend'].astype(int)\n",
        "data['Revenue'] = data['Revenue'].astype(int)\n",
        "\n",
        "# Dataset information\n",
        "data.info()"
      ]
    },
    {
      "cell_type": "code",
      "execution_count": 4,
      "metadata": {
        "colab": {
          "base_uri": "https://localhost:8080/"
        },
        "collapsed": true,
        "id": "mVYvLYBci4ZN",
        "outputId": "f857970c-78e1-403e-e1de-e3a626799349"
      },
      "outputs": [
        {
          "output_type": "stream",
          "name": "stdout",
          "text": [
            "<class 'pandas.core.frame.DataFrame'>\n",
            "Index: 12205 entries, 0 to 12329\n",
            "Data columns (total 24 columns):\n",
            " #   Column                   Non-Null Count  Dtype  \n",
            "---  ------                   --------------  -----  \n",
            " 0   Administrative           12205 non-null  int64  \n",
            " 1   Administrative_Duration  12205 non-null  float64\n",
            " 2   Informational            12205 non-null  int64  \n",
            " 3   Informational_Duration   12205 non-null  float64\n",
            " 4   ProductRelated           12205 non-null  int64  \n",
            " 5   ProductRelated_Duration  12205 non-null  float64\n",
            " 6   BounceRates              12205 non-null  float64\n",
            " 7   ExitRates                12205 non-null  float64\n",
            " 8   PageValues               12205 non-null  float64\n",
            " 9   SpecialDay               12205 non-null  float64\n",
            " 10  Region                   12205 non-null  int64  \n",
            " 11  TrafficType              12205 non-null  int64  \n",
            " 12  VisitorType              12205 non-null  int64  \n",
            " 13  Weekend                  12205 non-null  int64  \n",
            " 14  Revenue                  12205 non-null  int64  \n",
            " 15  Month_Dec                12205 non-null  int64  \n",
            " 16  Month_Feb                12205 non-null  int64  \n",
            " 17  Month_Jul                12205 non-null  int64  \n",
            " 18  Month_June               12205 non-null  int64  \n",
            " 19  Month_Mar                12205 non-null  int64  \n",
            " 20  Month_May                12205 non-null  int64  \n",
            " 21  Month_Nov                12205 non-null  int64  \n",
            " 22  Month_Oct                12205 non-null  int64  \n",
            " 23  Month_Sep                12205 non-null  int64  \n",
            "dtypes: float64(7), int64(17)\n",
            "memory usage: 2.3 MB\n"
          ]
        }
      ],
      "source": [
        "bool_columns = ['Month_Dec', 'Month_Feb', 'Month_Jul', 'Month_June',\n",
        "                'Month_Mar', 'Month_May', 'Month_Nov', 'Month_Oct', 'Month_Sep']\n",
        "\n",
        "data[bool_columns] = data[bool_columns].astype(int)\n",
        "\n",
        "\n",
        "# Dataset information\n",
        "data.info()"
      ]
    },
    {
      "cell_type": "code",
      "execution_count": 5,
      "metadata": {
        "id": "xFnfCmRguxtU"
      },
      "outputs": [],
      "source": [
        "# Feature and label extraction\n",
        "X = data.drop('Revenue', axis=1)\n",
        "y = data['Revenue']"
      ]
    },
    {
      "cell_type": "markdown",
      "metadata": {
        "id": "IB9hAFrxLVDB"
      },
      "source": [
        "**Huấn luyện mô hình SVM và đánh giá bằng F1-score**\n",
        "\n",
        "\n",
        "sử dụng cross-validation với KFold\n",
        "'linear': Sử dụng siêu phẳng để phân chia dữ liệu.\n",
        "'rbf' (Radial Basis Function): Sử dụng các hàm Gauss để tạo ra ranh giới phi tuyến.\n",
        "'poly': Kernel đa thức.\n",
        "'sigmoid': Sử dụng hàm sigmoid, thường tương tự như một mạng nơ-ron."
      ]
    },
    {
      "cell_type": "code",
      "execution_count": 6,
      "metadata": {
        "colab": {
          "base_uri": "https://localhost:8080/"
        },
        "id": "BLxOjH5CPVhE",
        "outputId": "03c887fb-9f8a-40f9-d609-14abda4d3b08",
        "collapsed": true
      },
      "outputs": [
        {
          "output_type": "stream",
          "name": "stdout",
          "text": [
            "Average F1-score: 0.8720103749193904\n"
          ]
        }
      ],
      "source": [
        "from sklearn.svm import SVC\n",
        "from sklearn.metrics import make_scorer\n",
        "from sklearn.model_selection import GridSearchCV, cross_val_score, KFold\n",
        "\n",
        "\n",
        "# Chia dữ liệu thành tập huấn luyện và tập kiểm tra\n",
        "X_train_val, X_test, y_train_val, y_test = train_test_split(X, y, test_size=0.3, random_state=42, shuffle = True)\n",
        "\n",
        "#chia dữ liệu đào tạo thành train - val\n",
        "X_train, X_val, y_train, y_val = train_test_split(X_train_val, y_train_val, test_size=0.3, random_state=42, shuffle = True)\n",
        "\n",
        "# ## Khử nhiễu\n",
        "# # Tính toán Q1 (25%) và Q3 (75%)\n",
        "# Q1 = x_train.quantile(0.25)\n",
        "# Q3 = x_train.quantile(0.75)\n",
        "\n",
        "# # Tính toán IQR\n",
        "# IQR = Q3 - Q1\n",
        "\n",
        "# # Lọc các giá trị ngoại lệ dựa trên IQR\n",
        "# x_train_filtered = x_train[~((df < (Q1 - 1.5 * IQR)) | (x_train > (Q3 + 1.5 * IQR))).any(axis=1)]\n",
        "\n",
        "# Chuẩn hóa dữ liệu\n",
        "scaler = StandardScaler()\n",
        "X_train = scaler.fit_transform(X_train)\n",
        "X_test = scaler.transform(X_test)\n",
        "\n",
        "# svm_model = SVC()\n",
        "# # Tạo danh sách các siêu tham số để tìm kiếm\n",
        "# # param_grid = {\n",
        "# #     'C': [0.1, 1, 10, 100],\n",
        "# #     'gamma': [1, 0.1, 0.01, 0.001],\n",
        "# #     'kernel': ['linear', 'rbf', 'poly', 'sigmoid']\n",
        "# # }\n",
        "# # kernel='linear', random_state=42\n",
        "# param_grid = {\n",
        "#     'C': [0.1, 1, 10],\n",
        "#     'gamma': [1, 0.1, 0.01],\n",
        "#     'kernel': ['linear']\n",
        "# }\n",
        "# # GridSearchCV để tìm siêu tham số tối ưu\n",
        "# grid = GridSearchCV(svm_model, param_grid, refit=True, verbose=3, scoring=make_scorer(f1_score, average='weighted'))\n",
        "# grid.fit(X_train, y_train)\n",
        "\n",
        "# print(\"best param : \", grid.best_params_)\n",
        "\n",
        "# Tạo model\n",
        "# svm_model_best = SVC(**grid.best_params_)\n",
        "# best param :  {'C': 1, 'gamma': 1, 'kernel': 'linear'}\n",
        "svm_model_best = SVC(C=1, gamma=1, kernel='linear')\n",
        "svm_model_best.fit(X_train, y_train)\n",
        "\n",
        "# KFold cross-validation\n",
        "kf = KFold(n_splits=5, shuffle=True, random_state=42)\n",
        "\n",
        "# Using F1-score as a metric\n",
        "f1_scorer = make_scorer(f1_score, average='weighted')\n",
        "\n",
        "# Calculate F1-score via cross-validation\n",
        "scores = cross_val_score(svm_model_best, X_train, y_train, cv=kf, scoring=f1_scorer)\n",
        "# Print average F1-score\n",
        "print(f'Average F1-score: {scores.mean()}')"
      ]
    },
    {
      "cell_type": "markdown",
      "source": [
        "Đánh giá"
      ],
      "metadata": {
        "id": "x7sQPLIFsLCu"
      }
    },
    {
      "cell_type": "code",
      "source": [
        "X_train.shape , X_val.shape, X_test.shape"
      ],
      "metadata": {
        "colab": {
          "base_uri": "https://localhost:8080/"
        },
        "id": "xA5xw4Pd2zjJ",
        "outputId": "8d64fc72-dc52-4278-dc0a-2730802b6b0d"
      },
      "execution_count": 7,
      "outputs": [
        {
          "output_type": "execute_result",
          "data": {
            "text/plain": [
              "((5980, 23), (2563, 23), (3662, 23))"
            ]
          },
          "metadata": {},
          "execution_count": 7
        }
      ]
    },
    {
      "cell_type": "code",
      "source": [
        "from sklearn.metrics import classification_report\n",
        "\n",
        "y_pred_train = svm_model_best.predict(X_train)\n",
        "print(\"Train: \", classification_report(y_train,y_pred_train, target_names = ['False', 'True']   ))"
      ],
      "metadata": {
        "colab": {
          "base_uri": "https://localhost:8080/"
        },
        "id": "rJgx_XIlsOao",
        "outputId": "e19909ff-0d41-411f-abd1-648c464945ad"
      },
      "execution_count": 8,
      "outputs": [
        {
          "output_type": "stream",
          "name": "stdout",
          "text": [
            "Train:                precision    recall  f1-score   support\n",
            "\n",
            "       False       0.90      0.97      0.94      5044\n",
            "        True       0.75      0.42      0.54       936\n",
            "\n",
            "    accuracy                           0.89      5980\n",
            "   macro avg       0.83      0.70      0.74      5980\n",
            "weighted avg       0.88      0.89      0.87      5980\n",
            "\n"
          ]
        }
      ]
    },
    {
      "cell_type": "code",
      "source": [
        "from sklearn.metrics import classification_report\n",
        "y_pred_val = svm_model_best.predict(X_val)\n",
        "print(\"Train: \", classification_report(y_val,y_pred_val, target_names = ['False', 'True']   ))"
      ],
      "metadata": {
        "colab": {
          "base_uri": "https://localhost:8080/"
        },
        "id": "TJkHa_A0w3dN",
        "outputId": "8dcfe365-2a05-4d95-b928-943dad9f4468"
      },
      "execution_count": 9,
      "outputs": [
        {
          "output_type": "stream",
          "name": "stderr",
          "text": [
            "/usr/local/lib/python3.10/dist-packages/sklearn/base.py:458: UserWarning: X has feature names, but SVC was fitted without feature names\n",
            "  warnings.warn(\n"
          ]
        },
        {
          "output_type": "stream",
          "name": "stdout",
          "text": [
            "Train:                precision    recall  f1-score   support\n",
            "\n",
            "       False       0.96      0.42      0.59      2137\n",
            "        True       0.24      0.92      0.38       426\n",
            "\n",
            "    accuracy                           0.51      2563\n",
            "   macro avg       0.60      0.67      0.49      2563\n",
            "weighted avg       0.84      0.51      0.56      2563\n",
            "\n"
          ]
        }
      ]
    },
    {
      "cell_type": "code",
      "source": [
        "from sklearn.metrics import classification_report\n",
        "y_pred_test = svm_model_best.predict(X_test)\n",
        "print(\"Train: \", classification_report(y_test,y_pred_test, target_names = ['False', 'True']   ))"
      ],
      "metadata": {
        "colab": {
          "base_uri": "https://localhost:8080/"
        },
        "id": "sU23S0Wp2Gje",
        "outputId": "d0bbc9be-2e0e-495e-9f04-cc83ad17cba9"
      },
      "execution_count": 10,
      "outputs": [
        {
          "output_type": "stream",
          "name": "stdout",
          "text": [
            "Train:                precision    recall  f1-score   support\n",
            "\n",
            "       False       0.90      0.97      0.94      3116\n",
            "        True       0.74      0.40      0.52       546\n",
            "\n",
            "    accuracy                           0.89      3662\n",
            "   macro avg       0.82      0.69      0.73      3662\n",
            "weighted avg       0.88      0.89      0.88      3662\n",
            "\n"
          ]
        }
      ]
    },
    {
      "cell_type": "code",
      "execution_count": 11,
      "metadata": {
        "id": "3vHw6cZecA7X",
        "collapsed": true
      },
      "outputs": [],
      "source": [
        "# import seaborn as sns\n",
        "# import matplotlib.pyplot as plt\n",
        "# # Plot F1-score chart\n",
        "# sns.barplot(x=[f\"Fold {i+1}\" for i in range(len(f1_scores))], y=f1_scores)\n",
        "# plt.title('F1-score across K-Folds')\n",
        "# plt.ylabel('F1-score')\n",
        "# plt.ylim(0, 1)\n",
        "# plt.show()"
      ]
    },
    {
      "cell_type": "markdown",
      "metadata": {
        "id": "9o7Va17XPuFl"
      },
      "source": [
        "**Logistic Regression và Random Forest**"
      ]
    },
    {
      "cell_type": "code",
      "execution_count": 12,
      "metadata": {
        "colab": {
          "base_uri": "https://localhost:8080/"
        },
        "collapsed": true,
        "id": "NSCA1LnAPv8E",
        "outputId": "6203e25d-14c6-452f-ff7c-9e323028e9d0"
      },
      "outputs": [
        {
          "output_type": "stream",
          "name": "stderr",
          "text": [
            "/usr/local/lib/python3.10/dist-packages/sklearn/linear_model/_logistic.py:460: ConvergenceWarning: lbfgs failed to converge (status=1):\n",
            "STOP: TOTAL NO. of ITERATIONS REACHED LIMIT.\n",
            "\n",
            "Increase the number of iterations (max_iter) or scale the data as shown in:\n",
            "    https://scikit-learn.org/stable/modules/preprocessing.html\n",
            "Please also refer to the documentation for alternative solver options:\n",
            "    https://scikit-learn.org/stable/modules/linear_model.html#logistic-regression\n",
            "  n_iter_i = _check_optimize_result(\n",
            "/usr/local/lib/python3.10/dist-packages/sklearn/linear_model/_logistic.py:460: ConvergenceWarning: lbfgs failed to converge (status=1):\n",
            "STOP: TOTAL NO. of ITERATIONS REACHED LIMIT.\n",
            "\n",
            "Increase the number of iterations (max_iter) or scale the data as shown in:\n",
            "    https://scikit-learn.org/stable/modules/preprocessing.html\n",
            "Please also refer to the documentation for alternative solver options:\n",
            "    https://scikit-learn.org/stable/modules/linear_model.html#logistic-regression\n",
            "  n_iter_i = _check_optimize_result(\n",
            "/usr/local/lib/python3.10/dist-packages/sklearn/linear_model/_logistic.py:460: ConvergenceWarning: lbfgs failed to converge (status=1):\n",
            "STOP: TOTAL NO. of ITERATIONS REACHED LIMIT.\n",
            "\n",
            "Increase the number of iterations (max_iter) or scale the data as shown in:\n",
            "    https://scikit-learn.org/stable/modules/preprocessing.html\n",
            "Please also refer to the documentation for alternative solver options:\n",
            "    https://scikit-learn.org/stable/modules/linear_model.html#logistic-regression\n",
            "  n_iter_i = _check_optimize_result(\n",
            "/usr/local/lib/python3.10/dist-packages/sklearn/linear_model/_logistic.py:460: ConvergenceWarning: lbfgs failed to converge (status=1):\n",
            "STOP: TOTAL NO. of ITERATIONS REACHED LIMIT.\n",
            "\n",
            "Increase the number of iterations (max_iter) or scale the data as shown in:\n",
            "    https://scikit-learn.org/stable/modules/preprocessing.html\n",
            "Please also refer to the documentation for alternative solver options:\n",
            "    https://scikit-learn.org/stable/modules/linear_model.html#logistic-regression\n",
            "  n_iter_i = _check_optimize_result(\n",
            "/usr/local/lib/python3.10/dist-packages/sklearn/linear_model/_logistic.py:460: ConvergenceWarning: lbfgs failed to converge (status=1):\n",
            "STOP: TOTAL NO. of ITERATIONS REACHED LIMIT.\n",
            "\n",
            "Increase the number of iterations (max_iter) or scale the data as shown in:\n",
            "    https://scikit-learn.org/stable/modules/preprocessing.html\n",
            "Please also refer to the documentation for alternative solver options:\n",
            "    https://scikit-learn.org/stable/modules/linear_model.html#logistic-regression\n",
            "  n_iter_i = _check_optimize_result(\n"
          ]
        },
        {
          "output_type": "stream",
          "name": "stdout",
          "text": [
            "Trung bình F1-score của mô hình Logistic Regression: 0.5082570236477351\n",
            "Trung bình F1-score của mô hình Random Forest: 0.6408170883153186\n"
          ]
        }
      ],
      "source": [
        "from sklearn.linear_model import LogisticRegression\n",
        "from sklearn.ensemble import RandomForestClassifier\n",
        "\n",
        "# Khởi tạo các mô hình\n",
        "logistic_model = LogisticRegression(max_iter=1000, random_state=42)\n",
        "rf_model = RandomForestClassifier(random_state=42)\n",
        "\n",
        "# Đánh giá mô hình Logistic Regression\n",
        "f1_scores_logistic = cross_val_score(logistic_model, X, y, cv=kf, scoring=make_scorer(f1_score))\n",
        "print(f\"Trung bình F1-score của mô hình Logistic Regression: {f1_scores_logistic.mean()}\")\n",
        "\n",
        "# Đánh giá mô hình Random Forest\n",
        "f1_scores_rf = cross_val_score(rf_model, X, y, cv=kf, scoring=make_scorer(f1_score))\n",
        "print(f\"Trung bình F1-score của mô hình Random Forest: {f1_scores_rf.mean()}\")\n"
      ]
    }
  ],
  "metadata": {
    "accelerator": "GPU",
    "colab": {
      "gpuType": "T4",
      "provenance": []
    },
    "kernelspec": {
      "display_name": "Python 3",
      "name": "python3"
    },
    "language_info": {
      "name": "python"
    }
  },
  "nbformat": 4,
  "nbformat_minor": 0
}